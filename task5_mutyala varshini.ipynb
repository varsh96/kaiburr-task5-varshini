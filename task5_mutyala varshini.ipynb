{
  "nbformat": 4,
  "nbformat_minor": 0,
  "metadata": {
    "colab": {
      "provenance": []
    },
    "kernelspec": {
      "name": "python3",
      "display_name": "Python 3"
    },
    "language_info": {
      "name": "python"
    }
  },
  "cells": [
    {
      "cell_type": "code",
      "execution_count": 1,
      "metadata": {
        "id": "wDFwE6iKAfq-"
      },
      "outputs": [],
      "source": [
        "\n",
        "import os\n",
        "import re\n",
        "import numpy as np\n",
        "import pandas as pd\n",
        "import matplotlib.pyplot as plt\n",
        "import seaborn as sns\n",
        "\n",
        "from sklearn.model_selection import train_test_split, StratifiedKFold, cross_val_score\n",
        "from sklearn.feature_extraction.text import TfidfVectorizer\n",
        "from sklearn.pipeline import Pipeline\n",
        "from sklearn.linear_model import LogisticRegression\n",
        "from sklearn.naive_bayes import MultinomialNB\n",
        "from sklearn.svm import LinearSVC\n",
        "from sklearn.ensemble import RandomForestClassifier\n",
        "from sklearn.metrics import (\n",
        "    accuracy_score, classification_report, confusion_matrix,\n",
        "    f1_score, precision_score, recall_score\n",
        ")\n",
        "import joblib\n",
        "\n",
        "import nltk\n",
        "from nltk.corpus import stopwords\n",
        "from nltk.stem import WordNetLemmatizer\n",
        "\n",
        "\n",
        "RANDOM_STATE = 42\n",
        "np.random.seed(RANDOM_STATE)\n"
      ]
    },
    {
      "cell_type": "code",
      "source": [
        "\n",
        "DATA_PATH = \"/content/Consumer_Complaints.csv\"\n",
        "\n",
        "df = pd.read_csv(DATA_PATH)\n",
        "\n",
        "possible_text_cols = [\n",
        "    'Consumer complaint narrative', 'consumer_complaint_narrative',\n",
        "    'Complaint', 'consumer_complaint', 'complaint_what_happened'\n",
        "]\n",
        "text_col = next((c for c in possible_text_cols if c in df.columns), None)\n",
        "if text_col is None:\n",
        "\n",
        "    candidate = [c for c in df.columns if 'narrative' in c.lower() or 'complaint' in c.lower()]\n",
        "    text_col = candidate[0] if candidate else df.columns[0]\n",
        "print(\"Using text column:\", text_col)\n",
        "\n",
        "def map_category(prod):\n",
        "    s = str(prod).lower()\n",
        "    loan_keywords = ['consumer loan', 'student loan', 'payday loan', 'vehicle loan', 'personal loan', 'installment loan']\n",
        "    if 'credit reporting' in s or 'credit repair' in s or 'credit reporting' in s:\n",
        "        return 0\n",
        "    elif 'debt collection' in s or 'debt collector' in s:\n",
        "        return 1\n",
        "    elif any(k in s for k in loan_keywords):\n",
        "        return 2\n",
        "    elif 'mortgage' in s or 'mortgage servicing' in s:\n",
        "        return 3\n",
        "    else:\n",
        "        return np.nan\n",
        "\n",
        "prod_col = 'Product' if 'Product' in df.columns else next((c for c in df.columns if 'product' in c.lower()), 'Product')\n",
        "df['label'] = df[prod_col].apply(map_category)\n",
        "df = df.dropna(subset=['label']).copy()\n",
        "df['label'] = df['label'].astype(int)\n",
        "\n",
        "df['text'] = df[text_col].fillna(\"\").astype(str)\n",
        "df['text_len'] = df['text'].str.len()\n",
        "print(\"Label distribution:\\n\", df['label'].value_counts())\n",
        "print(\"Sample rows:\\n\", df[['label', 'text_len']].head())\n",
        "\n"
      ],
      "metadata": {
        "colab": {
          "base_uri": "https://localhost:8080/"
        },
        "id": "xGYZRKRLAvUy",
        "outputId": "610a135e-4806-47d3-c75a-7fbad54620a2"
      },
      "execution_count": 3,
      "outputs": [
        {
          "output_type": "stream",
          "name": "stdout",
          "text": [
            "Using text column: Consumer complaint narrative\n",
            "Label distribution:\n",
            " label\n",
            "0    3565\n",
            "1    2995\n",
            "3    1925\n",
            "2    1683\n",
            "Name: count, dtype: int64\n",
            "Sample rows:\n",
            "    label  text_len\n",
            "0      0         0\n",
            "1      1         0\n",
            "3      3         0\n",
            "5      1         0\n",
            "6      3         0\n"
          ]
        }
      ]
    },
    {
      "cell_type": "code",
      "source": [
        "\n",
        "nltk.download('stopwords')\n",
        "nltk.download('wordnet')\n",
        "nltk.download('omw-1.4')\n",
        "\n",
        "\n",
        "stop_words = set(stopwords.words('english'))\n",
        "lemmatizer = WordNetLemmatizer()\n",
        "\n",
        "def preprocess_text(s):\n",
        "    s = str(s).lower()\n",
        "    s = re.sub(r\"http\\S+|www\\S+\", \" \", s)\n",
        "    s = re.sub(r\"\\S+@\\S+\", \" \", s)\n",
        "    s = re.sub(r\"[^a-z\\s]\", \" \", s)\n",
        "    s = re.sub(r\"\\s+\", \" \", s).strip()\n",
        "    tokens = [w for w in s.split() if w not in stop_words and len(w) > 1]\n",
        "    lemmed = [lemmatizer.lemmatize(w) for w in tokens]\n",
        "    return \" \".join(lemmed)\n",
        "\n",
        "\n",
        "df['clean_text'] = df['text'].map(preprocess_text)\n",
        "\n",
        "for orig, clean in df[['text','clean_text']].head(5).values:\n",
        "    print(\"ORIG:\", orig[:120].replace(\"\\n\",\" \"), \"\\nCLEAN:\", clean[:120], \"\\n---\")\n"
      ],
      "metadata": {
        "colab": {
          "base_uri": "https://localhost:8080/"
        },
        "id": "ZYKnhNDwBQy3",
        "outputId": "827bfaf9-5f2c-4c7c-cf24-994ca183870d"
      },
      "execution_count": 4,
      "outputs": [
        {
          "output_type": "stream",
          "name": "stderr",
          "text": [
            "[nltk_data] Downloading package stopwords to /root/nltk_data...\n",
            "[nltk_data]   Unzipping corpora/stopwords.zip.\n",
            "[nltk_data] Downloading package wordnet to /root/nltk_data...\n",
            "[nltk_data] Downloading package omw-1.4 to /root/nltk_data...\n"
          ]
        },
        {
          "output_type": "stream",
          "name": "stdout",
          "text": [
            "ORIG:  \n",
            "CLEAN:  \n",
            "---\n",
            "ORIG:  \n",
            "CLEAN:  \n",
            "---\n",
            "ORIG:  \n",
            "CLEAN:  \n",
            "---\n",
            "ORIG:  \n",
            "CLEAN:  \n",
            "---\n",
            "ORIG:  \n",
            "CLEAN:  \n",
            "---\n"
          ]
        }
      ]
    },
    {
      "cell_type": "code",
      "source": [
        "\n",
        "X = df['clean_text']\n",
        "y = df['label']\n",
        "\n",
        "X_train, X_test, y_train, y_test = train_test_split(\n",
        "    X, y, test_size=0.20, random_state=RANDOM_STATE, stratify=y\n",
        ")\n",
        "\n",
        "models = {\n",
        "    \"Logistic Regression\": LogisticRegression(max_iter=2000, class_weight='balanced', random_state=RANDOM_STATE),\n",
        "    \"Naive Bayes\": MultinomialNB(),\n",
        "    \"SVM\": LinearSVC(class_weight='balanced', max_iter=20000, random_state=RANDOM_STATE),\n",
        "    \"Random Forest\": RandomForestClassifier(n_estimators=200, class_weight='balanced', random_state=RANDOM_STATE)\n",
        "}\n",
        "\n",
        "\n",
        "pipelines = {\n",
        "    name: Pipeline([\n",
        "        ('tfidf', TfidfVectorizer(ngram_range=(1,2), max_features=20000)),\n",
        "        ('clf', model)\n",
        "    ]) for name, model in models.items()\n",
        "}\n"
      ],
      "metadata": {
        "id": "7okYSK-vBgUA"
      },
      "execution_count": 5,
      "outputs": []
    },
    {
      "cell_type": "code",
      "source": [
        "\n",
        "results = []\n",
        "cv = StratifiedKFold(n_splits=5, shuffle=True, random_state=RANDOM_STATE)\n",
        "\n",
        "for name, pipe in pipelines.items():\n",
        "    print(f\"\\nTraining {name} ...\")\n",
        "    pipe.fit(X_train, y_train)\n",
        "    y_pred = pipe.predict(X_test)\n",
        "    acc = accuracy_score(y_test, y_pred)\n",
        "    f1 = f1_score(y_test, y_pred, average='macro')\n",
        "    prec = precision_score(y_test, y_pred, average='macro', zero_division=0)\n",
        "    rec = recall_score(y_test, y_pred, average='macro', zero_division=0)\n",
        "\n",
        "    try:\n",
        "        cv_scores = cross_val_score(pipe, X_train, y_train, cv=cv, scoring='f1_macro', n_jobs=-1)\n",
        "        cv_mean = cv_scores.mean()\n",
        "    except Exception as e:\n",
        "        cv_mean = np.nan\n",
        "    print(f\"{name} -> Acc: {acc:.4f}, F1_macro: {f1:.4f}, CV_f1_mean: {cv_mean:.4f}\")\n",
        "    print(classification_report(y_test, y_pred, digits=4))\n",
        "    results.append({\n",
        "        'model': name, 'pipeline': pipe, 'accuracy': acc,\n",
        "        'f1_macro': f1, 'precision_macro': prec, 'recall_macro': rec,\n",
        "        'cv_f1_mean': cv_mean\n",
        "    })\n",
        "\n",
        "results_df = pd.DataFrame(results).sort_values(by='f1_macro', ascending=False).reset_index(drop=True)\n",
        "print(\"\\nModel comparison:\\n\", results_df[['model','accuracy','f1_macro','cv_f1_mean']])\n"
      ],
      "metadata": {
        "colab": {
          "base_uri": "https://localhost:8080/"
        },
        "id": "q62euhcMBoo9",
        "outputId": "378a84f0-dffd-4dbd-a5fb-6499b76ceffb"
      },
      "execution_count": 6,
      "outputs": [
        {
          "output_type": "stream",
          "name": "stdout",
          "text": [
            "\n",
            "Training Logistic Regression ...\n",
            "Logistic Regression -> Acc: 0.4690, F1_macro: 0.3859, CV_f1_mean: 0.3625\n",
            "              precision    recall  f1-score   support\n",
            "\n",
            "           0     0.4002    0.9762    0.5677       713\n",
            "           1     0.8981    0.1619    0.2744       599\n",
            "           2     0.8182    0.3205    0.4606       337\n",
            "           3     0.9636    0.1377    0.2409       385\n",
            "\n",
            "    accuracy                         0.4690      2034\n",
            "   macro avg     0.7700    0.3991    0.3859      2034\n",
            "weighted avg     0.7228    0.4690    0.4017      2034\n",
            "\n",
            "\n",
            "Training Naive Bayes ...\n",
            "Naive Bayes -> Acc: 0.4577, F1_macro: 0.3577, CV_f1_mean: 0.3426\n",
            "              precision    recall  f1-score   support\n",
            "\n",
            "           0     0.3999    0.9776    0.5676       713\n",
            "           1     0.7500    0.1753    0.2842       599\n",
            "           2     0.8151    0.2878    0.4254       337\n",
            "           3     1.0000    0.0831    0.1535       385\n",
            "\n",
            "    accuracy                         0.4577      2034\n",
            "   macro avg     0.7413    0.3810    0.3577      2034\n",
            "weighted avg     0.6854    0.4577    0.3822      2034\n",
            "\n",
            "\n",
            "Training SVM ...\n",
            "SVM -> Acc: 0.4695, F1_macro: 0.3872, CV_f1_mean: 0.3697\n",
            "              precision    recall  f1-score   support\n",
            "\n",
            "           0     0.4002    0.9790    0.5682       713\n",
            "           1     0.9048    0.1586    0.2699       599\n",
            "           2     0.8320    0.3086    0.4502       337\n",
            "           3     0.9667    0.1506    0.2607       385\n",
            "\n",
            "    accuracy                         0.4695      2034\n",
            "   macro avg     0.7759    0.3992    0.3872      2034\n",
            "weighted avg     0.7276    0.4695    0.4026      2034\n",
            "\n",
            "\n",
            "Training Random Forest ...\n",
            "Random Forest -> Acc: 0.4636, F1_macro: 0.3747, CV_f1_mean: 0.3589\n",
            "              precision    recall  f1-score   support\n",
            "\n",
            "           0     0.4002    0.9762    0.5677       713\n",
            "           1     0.7967    0.1636    0.2715       599\n",
            "           2     0.8226    0.3027    0.4425       337\n",
            "           3     0.9792    0.1221    0.2171       385\n",
            "\n",
            "    accuracy                         0.4636      2034\n",
            "   macro avg     0.7497    0.3911    0.3747      2034\n",
            "weighted avg     0.6966    0.4636    0.3934      2034\n",
            "\n",
            "\n",
            "Model comparison:\n",
            "                  model  accuracy  f1_macro  cv_f1_mean\n",
            "0                  SVM  0.469518  0.387237    0.369742\n",
            "1  Logistic Regression  0.469027  0.385891    0.362541\n",
            "2        Random Forest  0.463618  0.374694    0.358910\n",
            "3          Naive Bayes  0.457719  0.357668    0.342622\n"
          ]
        }
      ]
    },
    {
      "cell_type": "code",
      "source": [
        "\n",
        "best_row = results_df.iloc[0]\n",
        "best_name = best_row['model']\n",
        "best_pipe = best_row['pipeline']\n",
        "print(\"Best model:\", best_name)\n",
        "\n",
        "y_pred_best = best_pipe.predict(X_test)\n",
        "cm = confusion_matrix(y_test, y_pred_best)\n",
        "plt.figure(figsize=(6,5))\n",
        "sns.heatmap(cm, annot=True, fmt='d', cmap='Blues',\n",
        "            xticklabels=[0,1,2,3], yticklabels=[0,1,2,3])\n",
        "plt.xlabel(\"Predicted\")\n",
        "plt.ylabel(\"True\")\n",
        "plt.title(f\"Confusion Matrix - {best_name}\")\n",
        "plt.show()\n",
        "\n",
        "print(\"Classification report for best model:\\n\")\n",
        "print(classification_report(y_test, y_pred_best, digits=4))\n",
        "\n",
        "try:\n",
        "    vect = best_pipe.named_steps['tfidf']\n",
        "    clf = best_pipe.named_steps['clf']\n",
        "    feature_names = vect.get_feature_names_out()\n",
        "    if hasattr(clf, 'coef_'):\n",
        "        coefs = clf.coef_\n",
        "\n",
        "        for i, class_idx in enumerate(range(coefs.shape[0])):\n",
        "            topn = np.argsort(coefs[i])[-15:][::-1]\n",
        "            print(f\"\\nTop positive features for class {i}:\")\n",
        "            print([feature_names[j] for j in topn[:15]])\n",
        "except Exception:\n",
        "    pass\n",
        "\n",
        "\n",
        "joblib.dump(best_pipe, \"best_text_classifier.joblib\")\n",
        "print(\"Saved best model to best_text_classifier.joblib\")\n"
      ],
      "metadata": {
        "colab": {
          "base_uri": "https://localhost:8080/",
          "height": 975
        },
        "id": "PwLOnVr_CHej",
        "outputId": "27314ad2-efb0-41db-9b5b-6df050c9b040"
      },
      "execution_count": 7,
      "outputs": [
        {
          "output_type": "stream",
          "name": "stdout",
          "text": [
            "Best model: SVM\n"
          ]
        },
        {
          "output_type": "display_data",
          "data": {
            "text/plain": [
              "<Figure size 600x500 with 2 Axes>"
            ],
            "image/png": "[encoded data removed]"
          },
          "metadata": {}
        },
        {
          "output_type": "stream",
          "name": "stdout",
          "text": [
            "Classification report for best model:\n",
            "\n",
            "              precision    recall  f1-score   support\n",
            "\n",
            "           0     0.4002    0.9790    0.5682       713\n",
            "           1     0.9048    0.1586    0.2699       599\n",
            "           2     0.8320    0.3086    0.4502       337\n",
            "           3     0.9667    0.1506    0.2607       385\n",
            "\n",
            "    accuracy                         0.4695      2034\n",
            "   macro avg     0.7759    0.3992    0.3872      2034\n",
            "weighted avg     0.7276    0.4695    0.4026      2034\n",
            "\n",
            "\n",
            "Top positive features for class 0:\n",
            "['equifax', 'experian', 'report', 'transunion', 'inquiry', 'information', 'belong', 'removed', 'fcra', 'fraud', 'incorrect', 'dispute', 'hard', 'error', 'xxxx reported']\n",
            "\n",
            "Top positive features for class 1:\n",
            "['debt', 'collection', 'bill', 'owe', 'call', 'medical', 'recovery', 'collect', 'validation', 'stop', 'service', 'calling', 'account verified', 'amount', 'owed']\n",
            "\n",
            "Top positive features for class 2:\n",
            "['navient', 'loan', 'car', 'finance', 'nelnet', 'interest', 'vehicle', 'payment', 'school', 'student', 'given', 'repayment', 'email', 'forbearance', 'student loan']\n",
            "\n",
            "Top positive features for class 3:\n",
            "['mortgage', 'modification', 'escrow', 'ocwen', 'property', 'appraisal', 'foreclosure', 'closing', 'servicing', 'seterus', 'bank', 'nationstar', 'lender', 'home', 'ditech']\n",
            "Saved best model to best_text_classifier.joblib\n"
          ]
        }
      ]
    },
    {
      "cell_type": "code",
      "source": [
        "\n",
        "category_mapping = {\n",
        "    0: \"Credit reporting, repair, or other\",\n",
        "    1: \"Debt collection\",\n",
        "    2: \"Consumer Loan\",\n",
        "    3: \"Mortgage\"\n",
        "}\n",
        "\n",
        "\n",
        "print(\"0 Credit reporting, repair, or other\")\n",
        "print(\"1 Debt collection\")\n",
        "print(\"2 Consumer Loan\")\n",
        "print(\"3 Mortgage\")\n",
        "\n",
        "\n",
        "samples = [\n",
        "    \"I got billed incorrectly for my credit report and cannot fix my file\",\n",
        "    \"Debt collector keeps calling me for an old debt that I don't owe\",\n",
        "    \"I applied for a personal loan but was charged unexpected fees\",\n",
        "    \"My mortgage servicer applied my payments to the wrong account\"\n",
        "]\n",
        "\n",
        "\n",
        "def predict_and_print(pipe, samples):\n",
        "    for s in samples:\n",
        "        s_clean = preprocess_text(s)\n",
        "        pred = pipe.predict([s_clean])[0]\n",
        "        print(f\"Input: {s}\\nPrediction: {pred} {category_mapping[pred]}\\n\")\n",
        "\n",
        "predict_and_print(best_pipe, samples)\n"
      ],
      "metadata": {
        "colab": {
          "base_uri": "https://localhost:8080/"
        },
        "id": "CdfxPEsPCSJe",
        "outputId": "331cb784-dde7-40df-b526-7540da69ef71"
      },
      "execution_count": 8,
      "outputs": [
        {
          "output_type": "stream",
          "name": "stdout",
          "text": [
            "0 Credit reporting, repair, or other\n",
            "1 Debt collection\n",
            "2 Consumer Loan\n",
            "3 Mortgage\n",
            "Input: I got billed incorrectly for my credit report and cannot fix my file\n",
            "Prediction: 0 Credit reporting, repair, or other\n",
            "\n",
            "Input: Debt collector keeps calling me for an old debt that I don't owe\n",
            "Prediction: 1 Debt collection\n",
            "\n",
            "Input: I applied for a personal loan but was charged unexpected fees\n",
            "Prediction: 2 Consumer Loan\n",
            "\n",
            "Input: My mortgage servicer applied my payments to the wrong account\n",
            "Prediction: 3 Mortgage\n",
            "\n"
          ]
        }
      ]
    }
  ]
}